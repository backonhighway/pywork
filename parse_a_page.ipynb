{
 "cells": [
  {
   "cell_type": "code",
   "execution_count": 1,
   "metadata": {
    "collapsed": false
   },
   "outputs": [],
   "source": [
    "# -*- coding: utf-8 -*-\n",
    "from bs4 import BeautifulSoup\n",
    "import urllib2\n",
    "import sqlite3\n",
    "\n",
    "url = \"http://db.netkeiba.com/race/201606050903/\"\n",
    "soup = BeautifulSoup(urllib2.urlopen(url), \"html.parser\")\n"
   ]
  },
  {
   "cell_type": "code",
   "execution_count": 3,
   "metadata": {
    "collapsed": false
   },
   "outputs": [],
   "source": [
    "dbname = 'database.db'\n",
    "\n",
    "conn = sqlite3.connect(dbname)\n",
    "c = conn.cursor()\n",
    "\n",
    "drop_table = '''drop table race'''\n",
    "c.execute(drop_table)\n",
    "drop_table = '''drop table race_by_horse'''\n",
    "c.execute(drop_table)\n",
    "drop_table = '''drop table horse'''\n",
    "c.execute(drop_table)\n",
    "drop_table = '''drop table past_race'''\n",
    "c.execute(drop_table)\n",
    "\n",
    "create_table = '''create table race (race_id integer PRIMARY_KEY, name varchar(64)\n",
    "                  )'''\n",
    "c.execute(create_table)\n",
    "\n",
    "create_table = '''create table race_by_horse (id integer PRIMARY KEY, horse_id int, race_id int,\n",
    "                  finished int, waku_ban int, uma_ban int, name varchar(64),\n",
    "                  sex int, age int, jockey_weight int, jockey_id int, jockey_name varchar(64),\n",
    "                  time varchar(64), odds, popularity int, weight int)'''\n",
    "c.execute(create_table)\n",
    "\n",
    "create_table = '''create table horse (horse_id integer PRIMARY KEY, name varchar(64),\n",
    "                  age int, gender varchar(32))'''\n",
    "c.execute(create_table)\n",
    "\n",
    "create_table = '''create table past_race (past_race_id integer PRIMARY KEY, horse_id int,\n",
    "                  date varchar(64), place varchar(64), race_name varchar(64),\n",
    "                  num_horses int, waku_ban int, uma_ban int, odds, popularity int,\n",
    "                  finished int, jockey_weight int, jockey_id int, jockey_name varchar(64),\n",
    "                  time varchar(64), weight int)'''\n",
    "c.execute(create_table)\n",
    "c.close()"
   ]
  },
  {
   "cell_type": "code",
   "execution_count": 9,
   "metadata": {
    "collapsed": false
   },
   "outputs": [
    {
     "ename": "AttributeError",
     "evalue": "'list' object has no attribute 'size'",
     "output_type": "error",
     "traceback": [
      "\u001b[0;31m---------------------------------------------------------------------------\u001b[0m",
      "\u001b[0;31mAttributeError\u001b[0m                            Traceback (most recent call last)",
      "\u001b[0;32m<ipython-input-9-3e7dfe348a16>\u001b[0m in \u001b[0;36m<module>\u001b[0;34m()\u001b[0m\n\u001b[1;32m     38\u001b[0m           jockey_weight, jockey_name, time, odds, popularity, weight)\n\u001b[1;32m     39\u001b[0m     \u001b[0mrow_list\u001b[0m\u001b[1;33m.\u001b[0m\u001b[0mappend\u001b[0m\u001b[1;33m(\u001b[0m\u001b[0mrow\u001b[0m\u001b[1;33m)\u001b[0m\u001b[1;33m\u001b[0m\u001b[0m\n\u001b[0;32m---> 40\u001b[0;31m \u001b[1;32mprint\u001b[0m \u001b[0mrow_list\u001b[0m\u001b[1;33m.\u001b[0m\u001b[0msize\u001b[0m\u001b[1;33m(\u001b[0m\u001b[1;33m)\u001b[0m\u001b[1;33m\u001b[0m\u001b[0m\n\u001b[0m",
      "\u001b[0;31mAttributeError\u001b[0m: 'list' object has no attribute 'size'"
     ]
    }
   ],
   "source": [
    "main_table = soup.find(\"table\", {\"class\":\"race_table_01\"})\n",
    "tr_list = main_table.find_all(\"tr\")\n",
    "\n",
    "row_list = []\n",
    "horse_list = []\n",
    "\n",
    "for i, tr in enumerate(tr_list):\n",
    "    if i == 0:\n",
    "        continue\n",
    "    td = tr.find(\"td\")\n",
    "    finished = td.text\n",
    "    td = td.findNext(\"td\")\n",
    "    waku_ban= td.text\n",
    "    td = td.findNext(\"td\")\n",
    "    uma_ban = td.text\n",
    "    td = td.findNext(\"td\")\n",
    "    name = td.text\n",
    "    td = td.findNext(\"td\")\n",
    "    sex_age = td.text\n",
    "    sex = list(sex_age)[0]\n",
    "    age = list(sex_age)[1]\n",
    "    td = td.findNext(\"td\")\n",
    "    jockey_weight = td.text\n",
    "    td = td.findNext(\"td\")\n",
    "    jockey_name = td.text\n",
    "    td = td.findNext(\"td\")\n",
    "    time = td.text\n",
    "    #diff, timeindex, passed, halftime is skipped\n",
    "    td = td.findNext(\"td\").findNext(\"td\").findNext(\"td\").findNext(\"td\")\n",
    "    td = td.findNext(\"td\")\n",
    "    odds = td\n",
    "    td = td.findNext(\"td\")\n",
    "    popularity = td.text\n",
    "    td = td.findNext(\"td\")\n",
    "    weight= td.text\n",
    "    \n",
    "    row = (finished, waku_ban, uma_ban, name, sex, age,\n",
    "          jockey_weight, jockey_name, time, odds, popularity, weight)\n",
    "    row_list.append(row)\n",
    "print len(row_list)"
   ]
  },
  {
   "cell_type": "code",
   "execution_count": null,
   "metadata": {
    "collapsed": true
   },
   "outputs": [],
   "source": [
    "dbname = 'database.db'\n",
    "\n",
    "conn = sqlite3.connect(dbname)\n",
    "c = conn.cursor()\n",
    "\n",
    "insert_sql = 'insert into users (id, name, age, gender) values (?,?,?,?)'\n",
    "users = [\n",
    "    (2, 'Shota', 54, 'male'),\n",
    "    (3, 'Nana', 40, 'female'),\n",
    "    (4, 'Tooru', 78, 'male'),\n",
    "    (5, 'Saki', 31, 'female')\n",
    "]\n",
    "c.executemany(insert_sql, users)\n",
    "conn.commit()\n",
    "conn.close()"
   ]
  },
  {
   "cell_type": "code",
   "execution_count": 44,
   "metadata": {
    "collapsed": false
   },
   "outputs": [
    {
     "name": "stdout",
     "output_type": "stream",
     "text": [
      "(1, u'Taro', 20, u'male')\n",
      "(2, u'Shota', 54, u'male')\n",
      "(3, u'Nana', 40, u'female')\n",
      "(4, u'Tooru', 78, u'male')\n",
      "(5, u'Saki', 31, u'female')\n"
     ]
    }
   ],
   "source": [
    "# -*- coding: utf-8\n",
    "\n",
    "import sqlite3\n",
    "\n",
    "dbname = 'database.db'\n",
    "\n",
    "conn = sqlite3.connect(dbname)\n",
    "c = conn.cursor()\n",
    "\n",
    "# executeメソッドでSQL文を実行する\n",
    "create_table = '''create table users (id int, name varchar(64),\n",
    "                  age int, gender varchar(32))'''\n",
    "c.execute(create_table)\n",
    "\n",
    "# SQL文に値をセットする場合は，Pythonのformatメソッドなどは使わずに，\n",
    "# セットしたい場所に?を記述し，executeメソッドの第2引数に?に当てはめる値を\n",
    "# タプルで渡す．\n",
    "sql = 'insert into users (id, name, age, gender) values (?,?,?,?)'\n",
    "user = (1, 'Taro', 20, 'male')\n",
    "c.execute(sql, user)\n",
    "\n",
    "# 一度に複数のSQL文を実行したいときは，タプルのリストを作成した上で\n",
    "# executemanyメソッドを実行する\n",
    "insert_sql = 'insert into users (id, name, age, gender) values (?,?,?,?)'\n",
    "users = [\n",
    "    (2, 'Shota', 54, 'male'),\n",
    "    (3, 'Nana', 40, 'female'),\n",
    "    (4, 'Tooru', 78, 'male'),\n",
    "    (5, 'Saki', 31, 'female')\n",
    "]\n",
    "c.executemany(insert_sql, users)\n",
    "conn.commit()\n",
    "\n",
    "select_sql = 'select * from users'\n",
    "for row in c.execute(select_sql):\n",
    "    print(row)\n",
    "\n",
    "conn.close()"
   ]
  },
  {
   "cell_type": "code",
   "execution_count": null,
   "metadata": {
    "collapsed": true
   },
   "outputs": [],
   "source": []
  }
 ],
 "metadata": {
  "anaconda-cloud": {},
  "kernelspec": {
   "display_name": "Python [conda env:py27]",
   "language": "python",
   "name": "conda-env-py27-py"
  },
  "language_info": {
   "codemirror_mode": {
    "name": "ipython",
    "version": 2
   },
   "file_extension": ".py",
   "mimetype": "text/x-python",
   "name": "python",
   "nbconvert_exporter": "python",
   "pygments_lexer": "ipython2",
   "version": "2.7.13"
  }
 },
 "nbformat": 4,
 "nbformat_minor": 1
}
