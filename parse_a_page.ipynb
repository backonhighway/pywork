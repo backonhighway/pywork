{
 "cells": [
  {
   "cell_type": "code",
   "execution_count": 51,
   "metadata": {
    "collapsed": false
   },
   "outputs": [],
   "source": [
    "# -*- coding: utf-8 -*-\n",
    "from bs4 import BeautifulSoup\n",
    "import urllib2\n",
    "import sqlite3\n",
    "\n",
    "url = \"http://db.netkeiba.com/race/201606050903/\"\n",
    "soup = BeautifulSoup(urllib2.urlopen(url), \"html.parser\")\n"
   ]
  },
  {
   "cell_type": "code",
   "execution_count": 52,
   "metadata": {
    "collapsed": false
   },
   "outputs": [],
   "source": [
    "dbname = 'database.db'\n",
    "\n",
    "conn = sqlite3.connect(dbname)\n",
    "c = conn.cursor()\n",
    "\n",
    "drop_table = '''drop table race'''\n",
    "c.execute(drop_table)\n",
    "drop_table = '''drop table race_by_horse'''\n",
    "c.execute(drop_table)\n",
    "\n",
    "c.close()"
   ]
  },
  {
   "cell_type": "code",
   "execution_count": 53,
   "metadata": {
    "collapsed": false
   },
   "outputs": [],
   "source": [
    "dbname = 'database.db'\n",
    "\n",
    "conn = sqlite3.connect(dbname)\n",
    "c = conn.cursor()\n",
    "\n",
    "create_table = '''create table race (race_id int PRIMARY_KEY, title varchar(64),\n",
    "                  place_id int, condition varchar(64), base_info varchar(64))'''\n",
    "c.execute(create_table)\n",
    "\n",
    "create_table = '''create table race_by_horse (rbh_id integer PRIMARY KEY, horse_id int, race_id int,\n",
    "                  finished int, waku_ban int, uma_ban int, sex int, age int,\n",
    "                  jockey_weight int, jockey_id int,\n",
    "                  time varchar(64), odds, popularity int, weight int, old_flag int)'''\n",
    "c.execute(create_table)\n",
    "\n",
    "c.close()"
   ]
  },
  {
   "cell_type": "code",
   "execution_count": 54,
   "metadata": {
    "collapsed": false
   },
   "outputs": [
    {
     "name": "stdout",
     "output_type": "stream",
     "text": [
      "201606050903\n",
      "2歳未勝利\n",
      "芝右 外1600m / 天候 : 曇 / 芝 : 良 / 発走 : 11:05\n",
      "2016年12月25日 5回中山9日目 サラ系2歳未勝利  ○混□指(馬齢)\n",
      "06\n"
     ]
    }
   ],
   "source": [
    "race_title = soup.find(\"h1\").text\n",
    "race_condition = soup.find(\"diary_snap_cut\").find(\"span\").text\n",
    "race_base_info = soup.find(\"p\", {\"class\":\"smalltxt\"}).text\n",
    "\n",
    "#year/place/number/day/xR\n",
    "race_url = url.split(\"/\")[-2]\n",
    "print race_url\n",
    "print race_title\n",
    "print race_condition\n",
    "print race_base_info\n",
    "\n",
    "place_id = race_url[4:6]\n",
    "print place_id\n",
    "\n",
    "race_info = (race_url, race_title, place_id, race_condition, race_base_info)"
   ]
  },
  {
   "cell_type": "code",
   "execution_count": 55,
   "metadata": {
    "collapsed": false
   },
   "outputs": [],
   "source": [
    "# -*- coding: utf-8 -*-\n",
    "dbname = 'database.db'\n",
    "conn = sqlite3.connect(dbname)\n",
    "c = conn.cursor()\n",
    "\n",
    "insert_sql = \"\"\"insert into race (race_id, title, place_id, condition, base_info)\n",
    "          values (?,?,?,?,?)\"\"\"\n",
    "c.execute(insert_sql, race_info)\n",
    "conn.commit()\n",
    "\n",
    "conn.close()"
   ]
  },
  {
   "cell_type": "code",
   "execution_count": 56,
   "metadata": {
    "collapsed": false
   },
   "outputs": [
    {
     "name": "stdout",
     "output_type": "stream",
     "text": [
      "----------\n",
      "201606050903\n",
      "2歳未勝利\n",
      "6\n",
      "芝右 外1600m / 天候 : 曇 / 芝 : 良 / 発走 : 11:05\n",
      "2016年12月25日 5回中山9日目 サラ系2歳未勝利  ○混□指(馬齢)\n"
     ]
    }
   ],
   "source": [
    "dbname = 'database.db'\n",
    "conn = sqlite3.connect(dbname)\n",
    "c = conn.cursor()\n",
    "\n",
    "select_sql =\"select * from race\"\n",
    "results = c.execute(select_sql)\n",
    "for res in results:\n",
    "    print \"----------\"\n",
    "    for r in res:\n",
    "        print r\n",
    "\n",
    "c.close()"
   ]
  },
  {
   "cell_type": "code",
   "execution_count": 57,
   "metadata": {
    "collapsed": false
   },
   "outputs": [
    {
     "name": "stdout",
     "output_type": "stream",
     "text": [
      "done race_by_horse\n"
     ]
    }
   ],
   "source": [
    "# -*- coding: utf-8 -*-\n",
    "main_table = soup.find(\"table\", {\"class\":\"race_table_01\"})\n",
    "tr_list = main_table.find_all(\"tr\")\n",
    "\n",
    "row_list = []\n",
    "\n",
    "for i, tr in enumerate(tr_list):\n",
    "    if i == 0:\n",
    "        continue\n",
    "    td_list = tr.findAll(\"td\")\n",
    "    finished = td_list[0].text\n",
    "    waku_ban= td_list[1].text\n",
    "    uma_ban = td_list[2].text\n",
    "    horse_id = td_list[3].find(\"a\")[\"href\"].split(\"/\")[2]\n",
    "    sex_age = td_list[4].text\n",
    "    sex = list(sex_age)[0]\n",
    "    age = list(sex_age)[1]\n",
    "    jockey_weight = td_list[5].text\n",
    "    jockey_id = td_list[6].find(\"a\")[\"href\"].split(\"/\")[2]\n",
    "    time = td_list[7].text\n",
    "    #diff, timeindex, passed, halftime is skipped\n",
    "    odds = td_list[12].text\n",
    "    popularity = td_list[13].text\n",
    "    weight= td_list[14].text.split(\"(\")[0]    \n",
    "    row = (horse_id, race_url, finished, waku_ban, uma_ban, sex, age,\n",
    "          jockey_weight, jockey_id, unicode(time), odds, popularity, weight, 0)\n",
    "    row_list.append(row)\n",
    "    \n",
    "    #for r in row:\n",
    "    #   print r\n",
    "print \"done race_by_horse\""
   ]
  },
  {
   "cell_type": "code",
   "execution_count": 58,
   "metadata": {
    "collapsed": false
   },
   "outputs": [],
   "source": [
    "# -*- coding: utf-8 -*-\n",
    "dbname = 'database.db'\n",
    "conn = sqlite3.connect(dbname)\n",
    "c = conn.cursor()\n",
    "\n",
    "insert_sql = \"\"\"insert into race_by_horse (horse_id, race_id, finished, waku_ban, uma_ban, sex, age,\n",
    "          jockey_weight, jockey_id, time, odds, popularity, weight, old_flag)\n",
    "          values (?,?,?,?,?,?,?,?,?,?,?,?,?,?)\"\"\"\n",
    "c.executemany(insert_sql, row_list)\n",
    "conn.commit()\n",
    "\n",
    "conn.close()"
   ]
  },
  {
   "cell_type": "code",
   "execution_count": 59,
   "metadata": {
    "collapsed": false
   },
   "outputs": [
    {
     "name": "stdout",
     "output_type": "stream",
     "text": [
      "-------\n",
      "1 2014101029 201606050903 1 2 4 牡 2 55 5203 1:37.7 16.8 8 464 0\n"
     ]
    }
   ],
   "source": [
    "# -*- coding: utf-8 -*-\n",
    "dbname = 'database.db'\n",
    "conn = sqlite3.connect(dbname)\n",
    "c = conn.cursor()\n",
    "\n",
    "#select_sql = \"select * from race_by_horse\"\n",
    "#results = c.execute(select_sql)\n",
    "#for res in results:\n",
    "#    print res\n",
    "#print \"-----------------\"\n",
    "\n",
    "param =(1,)\n",
    "select_sql =\"select * from race_by_horse where finished = ?\"\n",
    "results = c.execute(select_sql, param)\n",
    "for res in results:\n",
    "    print \"-------\"\n",
    "    for r in res:\n",
    "        print r,\n",
    "\n",
    "c.close()"
   ]
  },
  {
   "cell_type": "code",
   "execution_count": null,
   "metadata": {
    "collapsed": true
   },
   "outputs": [],
   "source": []
  }
 ],
 "metadata": {
  "anaconda-cloud": {},
  "kernelspec": {
   "display_name": "Python [conda env:py27]",
   "language": "python",
   "name": "conda-env-py27-py"
  },
  "language_info": {
   "codemirror_mode": {
    "name": "ipython",
    "version": 2
   },
   "file_extension": ".py",
   "mimetype": "text/x-python",
   "name": "python",
   "nbconvert_exporter": "python",
   "pygments_lexer": "ipython2",
   "version": "2.7.13"
  }
 },
 "nbformat": 4,
 "nbformat_minor": 1
}
