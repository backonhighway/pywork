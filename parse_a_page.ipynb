{
 "cells": [
  {
   "cell_type": "code",
   "execution_count": 3,
   "metadata": {
    "collapsed": false
   },
   "outputs": [],
   "source": [
    "# -*- coding: utf-8 -*-\n",
    "from bs4 import BeautifulSoup\n",
    "import urllib2\n",
    "import sqlite3\n",
    "\n",
    "url = \"http://db.netkeiba.com/race/201606050903/\"\n",
    "soup = BeautifulSoup(urllib2.urlopen(url), \"html.parser\")\n"
   ]
  },
  {
   "cell_type": "code",
   "execution_count": 24,
   "metadata": {
    "collapsed": true
   },
   "outputs": [],
   "source": [
    "dbname = 'database.db'\n",
    "\n",
    "conn = sqlite3.connect(dbname)\n",
    "c = conn.cursor()\n",
    "\n",
    "drop_table = '''drop table race'''\n",
    "c.execute(drop_table)\n",
    "drop_table = '''drop table race_by_horse'''\n",
    "c.execute(drop_table)\n",
    "drop_table = '''drop table horse'''\n",
    "c.execute(drop_table)\n",
    "drop_table = '''drop table past_race'''\n",
    "c.execute(drop_table)\n",
    "\n",
    "c.close()"
   ]
  },
  {
   "cell_type": "code",
   "execution_count": 25,
   "metadata": {
    "collapsed": false
   },
   "outputs": [],
   "source": [
    "dbname = 'database.db'\n",
    "\n",
    "conn = sqlite3.connect(dbname)\n",
    "c = conn.cursor()\n",
    "\n",
    "create_table = '''create table race (race_id integer PRIMARY_KEY, name varchar(64)\n",
    "                  )'''\n",
    "c.execute(create_table)\n",
    "\n",
    "create_table = '''create table race_by_horse (id integer PRIMARY KEY, horse_id int, race_id int,\n",
    "                  finished int, waku_ban int, uma_ban int, name varchar(64),\n",
    "                  sex int, age int, jockey_weight int, jockey_id int, jockey_name varchar(64),\n",
    "                  time varchar(64), odds, popularity int, weight int)'''\n",
    "c.execute(create_table)\n",
    "\n",
    "create_table = '''create table horse (horse_id integer PRIMARY KEY, name varchar(64),\n",
    "                  age int, gender varchar(32))'''\n",
    "c.execute(create_table)\n",
    "\n",
    "create_table = '''create table past_race (past_race_id integer PRIMARY KEY, horse_id int,\n",
    "                  date varchar(64), place varchar(64), race_name varchar(64),\n",
    "                  num_horses int, waku_ban int, uma_ban int, odds, popularity int,\n",
    "                  finished int, jockey_weight int, jockey_id int, jockey_name varchar(64),\n",
    "                  time varchar(64), weight int)'''\n",
    "c.execute(create_table)\n",
    "c.close()"
   ]
  },
  {
   "cell_type": "code",
   "execution_count": 26,
   "metadata": {
    "collapsed": false
   },
   "outputs": [
    {
     "name": "stdout",
     "output_type": "stream",
     "text": [
      "16\n"
     ]
    }
   ],
   "source": [
    "# -*- coding: utf-8 -*-\n",
    "main_table = soup.find(\"table\", {\"class\":\"race_table_01\"})\n",
    "tr_list = main_table.find_all(\"tr\")\n",
    "\n",
    "row_list = []\n",
    "horse_list = []\n",
    "\n",
    "for i, tr in enumerate(tr_list):\n",
    "    if i == 0:\n",
    "        continue\n",
    "    td = tr.find(\"td\")\n",
    "    finished = td.text\n",
    "    td = td.findNext(\"td\")\n",
    "    waku_ban= td.text\n",
    "    td = td.findNext(\"td\")\n",
    "    uma_ban = td.text\n",
    "    td = td.findNext(\"td\")\n",
    "    name = td.text.strip()\n",
    "    td = td.findNext(\"td\")\n",
    "    sex_age = td.text\n",
    "    sex = list(sex_age)[0]\n",
    "    age = list(sex_age)[1]\n",
    "    td = td.findNext(\"td\")\n",
    "    jockey_weight = td.text\n",
    "    td = td.findNext(\"td\")\n",
    "    jockey_name = td.text.strip()\n",
    "    td = td.findNext(\"td\")\n",
    "    time = td.text\n",
    "    #diff, timeindex, passed, halftime is skipped\n",
    "    td = td.findNext(\"td\").findNext(\"td\").findNext(\"td\").findNext(\"td\")\n",
    "    td = td.findNext(\"td\")\n",
    "    odds = td.text\n",
    "    td = td.findNext(\"td\")\n",
    "    popularity = td.text\n",
    "    td = td.findNext(\"td\")\n",
    "    weight= td.text.split(\"(\")[0]\n",
    "    row = (finished, waku_ban, uma_ban, name, sex, age,\n",
    "          jockey_weight, jockey_name, unicode(time), odds, popularity, weight)\n",
    "    row_list.append(row)\n",
    "print len(row_list)"
   ]
  },
  {
   "cell_type": "code",
   "execution_count": 27,
   "metadata": {
    "collapsed": false
   },
   "outputs": [],
   "source": [
    "# -*- coding: utf-8 -*-\n",
    "dbname = 'database.db'\n",
    "conn = sqlite3.connect(dbname)\n",
    "c = conn.cursor()\n",
    "\n",
    "insert_sql = \"\"\"insert into race_by_horse (finished, waku_ban, uma_ban, name, sex, age,\n",
    "          jockey_weight, jockey_name, time, odds, popularity, weight)\n",
    "          values (?,?,?,?,?,?,?,?,?,?,?,?)\"\"\"\n",
    "c.executemany(insert_sql, row_list)\n",
    "conn.commit()\n",
    "\n",
    "conn.close()"
   ]
  },
  {
   "cell_type": "code",
   "execution_count": 29,
   "metadata": {
    "collapsed": false
   },
   "outputs": [
    {
     "name": "stdout",
     "output_type": "stream",
     "text": [
      "-------\n",
      "12 None None 12 2 3 ダーナ 牝 2 52 None 原田和真 1:38.8 14.5 6 390\n"
     ]
    }
   ],
   "source": [
    "# -*- coding: utf-8 -*-\n",
    "dbname = 'database.db'\n",
    "conn = sqlite3.connect(dbname)\n",
    "c = conn.cursor()\n",
    "\n",
    "param =(u\"ダーナ\",)\n",
    "select_sql =\"select * from race_by_horse where name = ?\"\n",
    "results = c.execute(select_sql, param)\n",
    "for res in results:\n",
    "    print \"-------\"\n",
    "    for r in res:\n",
    "        print r,\n",
    "\n",
    "c.close()"
   ]
  },
  {
   "cell_type": "code",
   "execution_count": 62,
   "metadata": {
    "collapsed": false
   },
   "outputs": [],
   "source": [
    "dbname = 'database.db'\n",
    "\n",
    "conn = sqlite3.connect(dbname)\n",
    "c = conn.cursor()\n",
    "c.close()"
   ]
  },
  {
   "cell_type": "code",
   "execution_count": null,
   "metadata": {
    "collapsed": true
   },
   "outputs": [],
   "source": []
  }
 ],
 "metadata": {
  "anaconda-cloud": {},
  "kernelspec": {
   "display_name": "Python [conda env:py27]",
   "language": "python",
   "name": "conda-env-py27-py"
  },
  "language_info": {
   "codemirror_mode": {
    "name": "ipython",
    "version": 2
   },
   "file_extension": ".py",
   "mimetype": "text/x-python",
   "name": "python",
   "nbconvert_exporter": "python",
   "pygments_lexer": "ipython2",
   "version": "2.7.13"
  }
 },
 "nbformat": 4,
 "nbformat_minor": 1
}
