{
 "cells": [
  {
   "cell_type": "code",
   "execution_count": 15,
   "metadata": {
    "collapsed": false
   },
   "outputs": [],
   "source": [
    "# -*- coding: utf-8 -*-\n",
    "from bs4 import BeautifulSoup\n",
    "import urllib2\n",
    "import sqlite3\n",
    "\n",
    "base_url = \"http://db.netkeiba.com/\"\n",
    "url = \"http://db.netkeiba.com/race/sum/05/20140201/\"\n",
    "soup = BeautifulSoup(urllib2.urlopen(url), \"html.parser\")"
   ]
  },
  {
   "cell_type": "code",
   "execution_count": 18,
   "metadata": {
    "collapsed": false
   },
   "outputs": [],
   "source": [
    "# -*- coding: utf-8 -*-\n",
    "main_table = soup.find(\"table\", {\"class\":\"race_table_01\"})\n",
    "tr_list = main_table.find_all(\"tr\")\n",
    "race_list = []\n",
    "\n",
    "for i, tr in enumerate(tr_list):\n",
    "    #header\n",
    "    if i == 0:\n",
    "        continue\n",
    "        \n",
    "    td_list = tr.findAll(\"td\")\n",
    "    td = td_list[1]\n",
    "    link = base_url + td.find(\"a\")[\"href\"]\n",
    "    #print link\n",
    "    race_list.append(link)    "
   ]
  },
  {
   "cell_type": "code",
   "execution_count": 19,
   "metadata": {
    "collapsed": false
   },
   "outputs": [],
   "source": [
    "# -*- coding: utf-8 -*-\n",
    "li = soup.find(\"li\", {\"class\": \"next\"})\n",
    "next_page = li.find(\"a\")[\"href\"]\n",
    "#print base_url + next_page\n"
   ]
  },
  {
   "cell_type": "code",
   "execution_count": null,
   "metadata": {
    "collapsed": true
   },
   "outputs": [],
   "source": []
  }
 ],
 "metadata": {
  "anaconda-cloud": {},
  "kernelspec": {
   "display_name": "Python [conda env:py27]",
   "language": "python",
   "name": "conda-env-py27-py"
  },
  "language_info": {
   "codemirror_mode": {
    "name": "ipython",
    "version": 2
   },
   "file_extension": ".py",
   "mimetype": "text/x-python",
   "name": "python",
   "nbconvert_exporter": "python",
   "pygments_lexer": "ipython2",
   "version": "2.7.13"
  }
 },
 "nbformat": 4,
 "nbformat_minor": 1
}
