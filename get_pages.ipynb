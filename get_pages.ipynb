{
 "cells": [
  {
   "cell_type": "code",
   "execution_count": 2,
   "metadata": {
    "collapsed": false
   },
   "outputs": [],
   "source": [
    "# -*- coding: utf-8 -*-\n",
    "from bs4 import BeautifulSoup\n",
    "import urllib2\n",
    "import sqlite3\n",
    "\n",
    "base_url = \"http://db.netkeiba.com/\"\n",
    "url = \"http://db.netkeiba.com/race/sum/05/20140201/\"\n",
    "soup = BeautifulSoup(urllib2.urlopen(url), \"html.parser\")"
   ]
  },
  {
   "cell_type": "code",
   "execution_count": 8,
   "metadata": {
    "collapsed": false
   },
   "outputs": [
    {
     "name": "stdout",
     "output_type": "stream",
     "text": [
      "http://db.netkeiba.com//race/201405010101/\n",
      "http://db.netkeiba.com//race/201405010102/\n",
      "http://db.netkeiba.com//race/201405010103/\n",
      "http://db.netkeiba.com//race/201405010104/\n",
      "http://db.netkeiba.com//race/201405010105/\n",
      "http://db.netkeiba.com//race/201405010106/\n",
      "http://db.netkeiba.com//race/201405010107/\n",
      "http://db.netkeiba.com//race/201405010108/\n",
      "http://db.netkeiba.com//race/201405010109/\n",
      "http://db.netkeiba.com//race/201405010110/\n",
      "http://db.netkeiba.com//race/201405010111/\n",
      "http://db.netkeiba.com//race/201405010112/\n"
     ]
    }
   ],
   "source": [
    "# -*- coding: utf-8 -*-\n",
    "main_table = soup.find(\"table\", {\"class\":\"race_table_01\"})\n",
    "tr_list = main_table.find_all(\"tr\")\n",
    "race_list = []\n",
    "\n",
    "for i, tr in enumerate(tr_list):\n",
    "    #header\n",
    "    if i == 0:\n",
    "        continue\n",
    "        \n",
    "    td_list = tr.findAll(\"td\")\n",
    "    td = td_list[1]\n",
    "    link = base_url + td.find(\"a\")[\"href\"]\n",
    "    print link\n",
    "    race_list.append((link,))    "
   ]
  },
  {
   "cell_type": "code",
   "execution_count": 9,
   "metadata": {
    "collapsed": false
   },
   "outputs": [
    {
     "name": "stdout",
     "output_type": "stream",
     "text": [
      "http://db.netkeiba.com//race/sum/05/20140202/\n"
     ]
    }
   ],
   "source": [
    "# -*- coding: utf-8 -*-\n",
    "li = soup.find(\"li\", {\"class\": \"next\"})\n",
    "next_page = li.find(\"a\")[\"href\"]\n",
    "print base_url + next_page\n"
   ]
  },
  {
   "cell_type": "code",
   "execution_count": 10,
   "metadata": {
    "collapsed": false
   },
   "outputs": [],
   "source": [
    "dbname = 'database.db'\n",
    "\n",
    "conn = sqlite3.connect(dbname)\n",
    "c = conn.cursor()\n",
    "\n",
    "drop_table = '''drop table url_list'''\n",
    "c.execute(drop_table)\n",
    "\n",
    "c.close()"
   ]
  },
  {
   "cell_type": "code",
   "execution_count": 11,
   "metadata": {
    "collapsed": false
   },
   "outputs": [],
   "source": [
    "dbname = 'database.db'\n",
    "\n",
    "conn = sqlite3.connect(dbname)\n",
    "c = conn.cursor()\n",
    "\n",
    "create_table = '''create table url_list (url varchar(64))'''\n",
    "c.execute(create_table)\n",
    "c.close()"
   ]
  },
  {
   "cell_type": "code",
   "execution_count": 12,
   "metadata": {
    "collapsed": true
   },
   "outputs": [],
   "source": [
    "dbname = 'database.db'\n",
    "conn = sqlite3.connect(dbname)\n",
    "c = conn.cursor()\n",
    "\n",
    "insert_sql = \"\"\"insert into url_list (url)\n",
    "          values (?)\"\"\"\n",
    "c.executemany(insert_sql, race_list)\n",
    "conn.commit()\n",
    "\n",
    "conn.close()"
   ]
  },
  {
   "cell_type": "code",
   "execution_count": 13,
   "metadata": {
    "collapsed": false
   },
   "outputs": [
    {
     "name": "stdout",
     "output_type": "stream",
     "text": [
      "(u'http://db.netkeiba.com//race/201405010101/',)\n",
      "(u'http://db.netkeiba.com//race/201405010102/',)\n",
      "(u'http://db.netkeiba.com//race/201405010103/',)\n",
      "(u'http://db.netkeiba.com//race/201405010104/',)\n",
      "(u'http://db.netkeiba.com//race/201405010105/',)\n",
      "(u'http://db.netkeiba.com//race/201405010106/',)\n",
      "(u'http://db.netkeiba.com//race/201405010107/',)\n",
      "(u'http://db.netkeiba.com//race/201405010108/',)\n",
      "(u'http://db.netkeiba.com//race/201405010109/',)\n",
      "(u'http://db.netkeiba.com//race/201405010110/',)\n",
      "(u'http://db.netkeiba.com//race/201405010111/',)\n",
      "(u'http://db.netkeiba.com//race/201405010112/',)\n"
     ]
    }
   ],
   "source": [
    "dbname = 'database.db'\n",
    "conn = sqlite3.connect(dbname)\n",
    "c = conn.cursor()\n",
    "\n",
    "select_sql = \"\"\"select * from url_list\"\"\"\n",
    "result = c.execute(select_sql)\n",
    "for res in result:\n",
    "    print res\n",
    "\n",
    "conn.close()"
   ]
  },
  {
   "cell_type": "code",
   "execution_count": null,
   "metadata": {
    "collapsed": true
   },
   "outputs": [],
   "source": []
  }
 ],
 "metadata": {
  "anaconda-cloud": {},
  "kernelspec": {
   "display_name": "Python [conda env:py27]",
   "language": "python",
   "name": "conda-env-py27-py"
  },
  "language_info": {
   "codemirror_mode": {
    "name": "ipython",
    "version": 2
   },
   "file_extension": ".py",
   "mimetype": "text/x-python",
   "name": "python",
   "nbconvert_exporter": "python",
   "pygments_lexer": "ipython2",
   "version": "2.7.13"
  }
 },
 "nbformat": 4,
 "nbformat_minor": 1
}
