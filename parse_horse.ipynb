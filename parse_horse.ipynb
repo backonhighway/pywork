{
 "cells": [
  {
   "cell_type": "code",
   "execution_count": 4,
   "metadata": {
    "collapsed": false
   },
   "outputs": [
    {
     "name": "stdout",
     "output_type": "stream",
     "text": [
      "http://db.netkeiba.com/horse/result/2014110079/\n"
     ]
    }
   ],
   "source": [
    "# -*- coding: utf-8 -*-\n",
    "from bs4 import BeautifulSoup\n",
    "import urllib2\n",
    "import sqlite3\n",
    "\n",
    "base_url = \"http://db.netkeiba.com/horse/result/\"\n",
    "horse_id = \"2014110079\"\n",
    "url = base_url + horse_id + \"/\"\n",
    "print url\n",
    "soup = BeautifulSoup(urllib2.urlopen(url), \"html.parser\")"
   ]
  },
  {
   "cell_type": "code",
   "execution_count": 16,
   "metadata": {
    "collapsed": false
   },
   "outputs": [],
   "source": [
    "dbname = 'database.db'\n",
    "\n",
    "conn = sqlite3.connect(dbname)\n",
    "c = conn.cursor()\n",
    "\n",
    "drop_table = '''drop table horse_url'''\n",
    "c.execute(drop_table)\n",
    "\n",
    "c.close()"
   ]
  },
  {
   "cell_type": "code",
   "execution_count": 17,
   "metadata": {
    "collapsed": true
   },
   "outputs": [],
   "source": [
    "dbname = 'database.db'\n",
    "\n",
    "conn = sqlite3.connect(dbname)\n",
    "c = conn.cursor()\n",
    "\n",
    "create_table = '''create table horse_url (url varchar(64))'''\n",
    "c.execute(create_table)\n",
    "c.close()"
   ]
  },
  {
   "cell_type": "code",
   "execution_count": 18,
   "metadata": {
    "collapsed": false
   },
   "outputs": [
    {
     "name": "stdout",
     "output_type": "stream",
     "text": [
      "http://db.netkeiba.com/horse/result//race/sum/09/20161218/\n",
      "http://db.netkeiba.com/horse/result//race/sum/05/20161127/\n",
      "http://db.netkeiba.com/horse/result//race/sum/05/20161113/\n"
     ]
    }
   ],
   "source": [
    "# -*- coding: utf-8 -*-\n",
    "main_table = soup.find(\"table\", {\"class\":\"nk_tb_common\"})\n",
    "tr_list = main_table.findAll(\"tr\")\n",
    "race_list = []\n",
    "\n",
    "for i, tr in enumerate(tr_list):\n",
    "    #header\n",
    "    if i == 0:\n",
    "        continue\n",
    "        \n",
    "    td_list = tr.findAll(\"td\")\n",
    "    td = td_list[1]\n",
    "    link = base_url + td.find(\"a\")[\"href\"]\n",
    "    print link\n",
    "    race_list.append((link,))\n",
    "    "
   ]
  },
  {
   "cell_type": "code",
   "execution_count": 19,
   "metadata": {
    "collapsed": false
   },
   "outputs": [],
   "source": [
    "dbname = 'database.db'\n",
    "conn = sqlite3.connect(dbname)\n",
    "c = conn.cursor()\n",
    "\n",
    "insert_sql = \"\"\"insert into horse_url (url) values (?)\"\"\"\n",
    "c.executemany(insert_sql, race_list)\n",
    "conn.commit()\n",
    "\n",
    "conn.close()"
   ]
  },
  {
   "cell_type": "code",
   "execution_count": null,
   "metadata": {
    "collapsed": true
   },
   "outputs": [],
   "source": []
  }
 ],
 "metadata": {
  "anaconda-cloud": {},
  "kernelspec": {
   "display_name": "Python [conda env:py27]",
   "language": "python",
   "name": "conda-env-py27-py"
  },
  "language_info": {
   "codemirror_mode": {
    "name": "ipython",
    "version": 2
   },
   "file_extension": ".py",
   "mimetype": "text/x-python",
   "name": "python",
   "nbconvert_exporter": "python",
   "pygments_lexer": "ipython2",
   "version": "2.7.13"
  }
 },
 "nbformat": 4,
 "nbformat_minor": 1
}
